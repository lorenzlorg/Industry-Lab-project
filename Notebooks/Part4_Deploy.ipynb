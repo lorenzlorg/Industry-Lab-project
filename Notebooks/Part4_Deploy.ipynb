{
  "cells": [
    {
      "cell_type": "markdown",
      "source": [
        "# Scopo del notebook di Deploy"
      ],
      "metadata": {
        "collapsed": false,
        "pycharm": {
          "name": "#%% md\n"
        },
        "id": "mzvmbhS8MGgN"
      }
    },
    {
      "cell_type": "markdown",
      "source": [
        "Lo scopo di questa parte è quella di fornire un notebook/script in grado di applicare il modello su nuovi dati e riportare i corrispondenti risultati di classificazione, regressione o clustering. Si ipotizzi che i nuovi dati siano forniti con lo stesso formato e struttura dei dati originali."
      ],
      "metadata": {
        "collapsed": false,
        "id": "qqw5mFwoMGgP"
      }
    },
    {
      "cell_type": "markdown",
      "source": [
        "# Settings"
      ],
      "metadata": {
        "collapsed": false,
        "id": "_S4yy5qyMGgQ"
      }
    },
    {
      "cell_type": "code",
      "execution_count": null,
      "outputs": [],
      "source": [
        "# IMPORTAZIONE LIBRERIE\n",
        "import cv2\n",
        "import pickle\n",
        "import random\n",
        "import glob\n",
        "\n",
        "# PACCHETTI DI BASE\n",
        "import os\n",
        "import numpy as np\n",
        "import pandas as pd\n",
        "\n",
        "# SCIKIT-IMAGE\n",
        "from skimage.io import imread"
      ],
      "metadata": {
        "pycharm": {
          "name": "#%%\n"
        },
        "id": "ifG4-YqXMGgQ"
      }
    },
    {
      "cell_type": "code",
      "execution_count": null,
      "outputs": [],
      "source": [
        "DIR_INFERENCE_DATA = '../Data/Inference/DATA/'\n",
        "NUM_IMG = 20\n",
        "SCALE_PERCENT = 6\n",
        "random.seed(123)\n",
        "\n",
        "# Parametri di cropping: creazione di una finestra per il ritagliamento dell'immagine\n",
        "x=800\n",
        "w=3000\n",
        "y=2000\n",
        "h=4200"
      ],
      "metadata": {
        "pycharm": {
          "name": "#%%\n"
        },
        "id": "KyJtPtrKMGgS"
      }
    },
    {
      "cell_type": "markdown",
      "source": [
        "# Scaler Loading"
      ],
      "metadata": {
        "collapsed": false,
        "id": "L2f33EhVMGgS"
      }
    },
    {
      "cell_type": "code",
      "execution_count": null,
      "outputs": [],
      "source": [
        "with open('../Models/minMax_scaler.pkl', 'rb') as file:\n",
        "    scaler = pickle.load(file)\n",
        "\n",
        "scaler"
      ],
      "metadata": {
        "pycharm": {
          "name": "#%%\n"
        },
        "id": "PF1Nks1qMGgT"
      }
    },
    {
      "cell_type": "markdown",
      "source": [
        "# Inference dataset Creation"
      ],
      "metadata": {
        "collapsed": false,
        "id": "bYQqDlj0MGgU"
      }
    },
    {
      "cell_type": "code",
      "execution_count": null,
      "outputs": [],
      "source": [
        "# Selezione di 29 immagini prese in modo casuale dalla cartella contenente le immagini originali\n",
        "\n",
        "file_path_type = [\"../Data/Original/OK/*.bmp\"]\n",
        "images = glob.glob(random.choice(file_path_type))\n",
        "for i in range(NUM_IMG):\n",
        "    random_image = random.choice(images)\n",
        "    print(random_image)\n",
        "    img_raw = imread(random_image)\n",
        "    cv2.imwrite(os.path.join(DIR_INFERENCE_DATA , os.path.basename(random_image)), img_raw)\n",
        "\n",
        "\n",
        "file_path_type = [ \"../Data/Original/NOK/*.bmp\"]\n",
        "images = glob.glob(random.choice(file_path_type))\n",
        "for i in range(NUM_IMG):\n",
        "    random_image = random.choice(images)\n",
        "    print(random_image)\n",
        "    img_raw = imread(random_image)\n",
        "    cv2.imwrite(os.path.join(DIR_INFERENCE_DATA , os.path.basename(random_image)), img_raw)"
      ],
      "metadata": {
        "pycharm": {
          "name": "#%%\n"
        },
        "id": "-HD6mDIwMGgV"
      }
    },
    {
      "cell_type": "code",
      "execution_count": null,
      "outputs": [],
      "source": [
        "# Viene eseguita una ridenominazione delle immagini selezionate in modo casuale in modo tale da riprodurre con più accuratezza possibile uno scenario reale\n",
        "\n",
        "count = 1\n",
        "\n",
        "for file_name in os.listdir(DIR_INFERENCE_DATA):\n",
        "    source = DIR_INFERENCE_DATA + file_name\n",
        "    destination = DIR_INFERENCE_DATA + \"IMG_\" + str(count) + \".bmp\"\n",
        "    os.rename(source, destination)\n",
        "    count += 1\n",
        "print('All Files Renamed')\n",
        "\n",
        "print('New Names are')\n",
        "res = os.listdir(DIR_INFERENCE_DATA)\n",
        "print(res)"
      ],
      "metadata": {
        "pycharm": {
          "name": "#%%\n"
        },
        "id": "IW3AJYdqMGgW"
      }
    },
    {
      "cell_type": "markdown",
      "source": [
        "# Dataset preparation"
      ],
      "metadata": {
        "collapsed": false,
        "pycharm": {
          "name": "#%% md\n"
        },
        "id": "uJw8t5HeMGgX"
      }
    },
    {
      "cell_type": "code",
      "execution_count": null,
      "outputs": [],
      "source": [
        "image_names = []  # struttura dati contenente i nomi delle immagini\n",
        "VECTOR_DATA = []  # struttura dati contenente le immagini in formato vettoriale\n",
        "\n",
        "for img in os.listdir(DIR_INFERENCE_DATA):\n",
        "    print('sto processando una immagine...')\n",
        "\n",
        "    image_names.append(str(img))\n",
        "\n",
        "    # Selezione immagine singola\n",
        "    img = imread(os.path.join(DIR_INFERENCE_DATA,img))\n",
        "    # Conversione in bianco e nero\n",
        "    img_gray = cv2.cvtColor(img, cv2.COLOR_BGR2GRAY)\n",
        "    # Cropping\n",
        "    img_crop = img_gray[x:w, y:h]\n",
        "    # Ridimensionamento\n",
        "    width1 = int(img_crop.shape[1] * SCALE_PERCENT / 100)\n",
        "    height1 = int(img_crop.shape[0] * SCALE_PERCENT / 100)\n",
        "    dim1 = (width1, height1)\n",
        "    img_resized = cv2.resize(img_crop, dim1, interpolation = cv2.INTER_AREA)\n",
        "    # Conversione in forma vettoriale\n",
        "    VECTOR_DATA.append(img_resized.flatten())\n",
        "\n",
        "VECTOR_DATA = np.array(VECTOR_DATA)\n",
        "X = pd.DataFrame(VECTOR_DATA)\n",
        "X"
      ],
      "metadata": {
        "pycharm": {
          "name": "#%%\n"
        },
        "id": "k_Huvo_bMGgX"
      }
    },
    {
      "cell_type": "code",
      "execution_count": null,
      "outputs": [],
      "source": [
        "# Applicazione dello scaler sui dati\n",
        "\n",
        "X = pd.DataFrame(\n",
        "    scaler.transform(X),\n",
        "    index=X.index\n",
        ")\n",
        "X"
      ],
      "metadata": {
        "pycharm": {
          "name": "#%%\n"
        },
        "id": "2Q_MKKv_MGgY"
      }
    },
    {
      "cell_type": "markdown",
      "source": [
        "# Model loading"
      ],
      "metadata": {
        "collapsed": false,
        "pycharm": {
          "name": "#%% md\n"
        },
        "id": "rxFBsoFeMGgY"
      }
    },
    {
      "cell_type": "code",
      "execution_count": null,
      "outputs": [],
      "source": [
        "with open('../Models/support_vector_machine.pkl', 'rb') as file:\n",
        "    model = pickle.load(file)\n",
        "model"
      ],
      "metadata": {
        "pycharm": {
          "name": "#%%\n"
        },
        "id": "iXFfShgyMGgY"
      }
    },
    {
      "cell_type": "markdown",
      "source": [
        "# Prediction"
      ],
      "metadata": {
        "collapsed": false,
        "pycharm": {
          "name": "#%% md\n"
        },
        "id": "pUA30B1iMGgZ"
      }
    },
    {
      "cell_type": "code",
      "execution_count": null,
      "outputs": [],
      "source": [
        "# Predizioni sui valori di inference\n",
        "\n",
        "y_pred = pd.Series(model.predict(X), name='prediction')\n",
        "y_pred = pd.DataFrame(y_pred)\n",
        "y_pred['name'] = image_names\n",
        "y_pred"
      ],
      "metadata": {
        "pycharm": {
          "name": "#%%\n"
        },
        "id": "_hJyzlqmMGgZ"
      }
    },
    {
      "cell_type": "markdown",
      "source": [
        "# Prediction persistence"
      ],
      "metadata": {
        "collapsed": false,
        "pycharm": {
          "name": "#%% md\n"
        },
        "id": "WtddXUupMGgZ"
      }
    },
    {
      "cell_type": "code",
      "execution_count": null,
      "outputs": [],
      "source": [
        "y_pred.to_csv('../Data/Inference/bosch_predictions.csv', index=False)"
      ],
      "metadata": {
        "pycharm": {
          "name": "#%%\n"
        },
        "id": "UQQmi5N3MGgZ"
      }
    }
  ],
  "metadata": {
    "kernelspec": {
      "display_name": "Python 3",
      "language": "python",
      "name": "python3"
    },
    "language_info": {
      "codemirror_mode": {
        "name": "ipython",
        "version": 2
      },
      "file_extension": ".py",
      "mimetype": "text/x-python",
      "name": "python",
      "nbconvert_exporter": "python",
      "pygments_lexer": "ipython2",
      "version": "2.7.6"
    },
    "colab": {
      "provenance": [],
      "collapsed_sections": []
    }
  },
  "nbformat": 4,
  "nbformat_minor": 0
}