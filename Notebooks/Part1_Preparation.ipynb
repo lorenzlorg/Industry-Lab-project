{
  "cells": [
    {
      "cell_type": "markdown",
      "metadata": {
        "id": "GCjSyjKfJ-QP"
      },
      "source": [
        "# Scopo del notebook di Preparation"
      ]
    },
    {
      "cell_type": "markdown",
      "metadata": {
        "pycharm": {
          "name": "#%% md\n"
        },
        "id": "mhUbLLbSJ-QR"
      },
      "source": [
        "Lo scopo di questa parte è caricare i dati originali, esplorarli, visualizzarli e prepararli\n",
        "(es. cleaning e features engineering) per le fasi successive."
      ]
    },
    {
      "cell_type": "markdown",
      "metadata": {
        "id": "zs9skSnVJ-QR"
      },
      "source": [
        "# Settings"
      ]
    },
    {
      "cell_type": "code",
      "execution_count": null,
      "metadata": {
        "id": "1CppWXAby4RA"
      },
      "outputs": [],
      "source": [
        "# IMPORTAZIONE LIBRERIE\n",
        "\n",
        "# PACCHETTI DI BASE\n",
        "import utils\n",
        "import splitfolders\n",
        "import pickle\n",
        "import os\n",
        "import glob\n",
        "\n",
        "# PACCHETTI PER L'ANALISI NUMERICA E DI IMMAGINI\n",
        "import cv2\n",
        "import numpy as np\n",
        "import pandas as pd\n",
        "\n",
        "# VISUALIZZAZIONI\n",
        "import matplotlib.pyplot as plt\n",
        "import plotly.express as px\n",
        "\n",
        "# SKLEARN\n",
        "from skimage.io import imread\n",
        "from sklearn.preprocessing import MinMaxScaler"
      ]
    },
    {
      "cell_type": "code",
      "execution_count": null,
      "metadata": {
        "id": "Y8O9vh-V2002",
        "pycharm": {
          "name": "#%%\n"
        }
      },
      "outputs": [],
      "source": [
        "# Costanti\n",
        "\n",
        "CATEGORIES = ['OK', # non difettose\n",
        "              'NOK']  # difettose\n",
        "\n",
        "DIR_ORGINAL_DATA = '../Data/Original/'  # path contenente tutte le categorie di immagini originali\n",
        "DIR_ORGINAL_N0K_DATA = \"../Data/Original/NOK/\"  # path contenente le immagine difettose\n",
        "DIR_ORGINAL_0K_DATA =  \"../Data/Original/OK/\"  # path contenente le immagine non difettose\n",
        "DIR_PREPARED_DATA = '../Data/Prepared/'  # path contenente le immagini processate\n",
        "DIR_TRAIN_TEST_DATA = '../Data/Prepared/TRAIN_TEST' # path contenente i sottoinsiemi di train, test\n",
        "DIR_TRAIN_DATA = \"../Data/Prepared/TRAIN_TEST/train\" # path contenente i sottoinsiemi di train\n",
        "DIR_TEST_DATA = \"../Data/Prepared/TRAIN_TEST/val\" # path contenente i sottoinsiemi di test\n",
        "\n",
        "SCALE_PERCENT = 6     # ridimensionamento delle immagini per motivi computazionali di un valore percentuale pari a 6\n",
        "RANDOM_STATE = 123\n",
        "scaler = MinMaxScaler()\n",
        "\n",
        "# Parametri di cropping: creazione di una finestra per il ritagliamento dell'immagine\n",
        "x=800\n",
        "w=3000\n",
        "y=2000\n",
        "h=4200"
      ]
    },
    {
      "cell_type": "markdown",
      "metadata": {
        "id": "a41m4OUIJ-QT"
      },
      "source": [
        "# Esplorazione"
      ]
    },
    {
      "cell_type": "markdown",
      "metadata": {
        "id": "AJ-RacAOJ-QT"
      },
      "source": [
        "## Visualizzazione immagini di esempio"
      ]
    },
    {
      "cell_type": "code",
      "execution_count": null,
      "metadata": {
        "pycharm": {
          "name": "#%%\n"
        },
        "id": "plB-x9yNJ-QT"
      },
      "outputs": [],
      "source": [
        "# Visualizzazione immagini componenti con e senza difetti\n",
        "\n",
        "counter = 0\n",
        "for i in CATEGORIES:\n",
        "    counter = 0\n",
        "    print(f'CATEGORIA IMMAGINI: {i}')\n",
        "    path=os.path.join(DIR_ORGINAL_DATA,i)\n",
        "\n",
        "    for img in os.listdir(path):\n",
        "        counter += 1\n",
        "        if counter < 4:\n",
        "            img_array=imread(os.path.join(path,img))\n",
        "            print(img_array.shape)\n",
        "            plt.imshow(img_array)\n",
        "            plt.show()\n",
        "        else:\n",
        "            break"
      ]
    },
    {
      "cell_type": "markdown",
      "metadata": {
        "id": "KIbknmr_J-QV"
      },
      "source": [
        "## Analisi caratteristiche immagini"
      ]
    },
    {
      "cell_type": "code",
      "execution_count": null,
      "metadata": {
        "pycharm": {
          "name": "#%%\n"
        },
        "id": "u2BlHV3tJ-QV"
      },
      "outputs": [],
      "source": [
        "# Visualizzazione di un immagine difettosa selezionata a campione per l'analisi delle sue caratteristiche\n",
        "\n",
        "img_path = '../Data/Original/NOK/NOK (2).bmp'\n",
        "img = cv2.imread(img_path) # Si osservano 3 canali colore. Per default imread legge l'immagine mantenendo la presenza di 3 canali colore (nel caso di immagini in scala di grigi, i tre canali presentano la stessa identica matrice)\n",
        "print(img.shape)\n",
        "plt.imshow(img)\n",
        "plt.show()"
      ]
    },
    {
      "cell_type": "code",
      "execution_count": null,
      "metadata": {
        "pycharm": {
          "name": "#%%\n"
        },
        "id": "Vewd5G1_J-QW"
      },
      "outputs": [],
      "source": [
        "# canale blu\n",
        "img[:, :, 0]"
      ]
    },
    {
      "cell_type": "code",
      "execution_count": null,
      "metadata": {
        "pycharm": {
          "name": "#%%\n"
        },
        "id": "AFxY2846J-QW"
      },
      "outputs": [],
      "source": [
        "# canale verde\n",
        "img[:, :, 1]"
      ]
    },
    {
      "cell_type": "code",
      "execution_count": null,
      "metadata": {
        "pycharm": {
          "name": "#%%\n"
        },
        "id": "Ps64Me7wJ-QW"
      },
      "outputs": [],
      "source": [
        "# canale rosso\n",
        "img[:, :, 2]"
      ]
    },
    {
      "cell_type": "code",
      "execution_count": null,
      "metadata": {
        "pycharm": {
          "name": "#%%\n"
        },
        "id": "HHshwdZ4J-QW"
      },
      "outputs": [],
      "source": [
        "# Visualizzazione di un immagine difettosa selezionata a campione per l'analisi delle sue caratteristiche, utilizzando il parametro cv2.IMREAD_GRAYSCALE\n",
        "\n",
        "img_path = '../Data/Original/NOK/NOK (2).bmp'\n",
        "img = cv2.imread(img_path)\n",
        "\n",
        "img = cv2.cvtColor(img, cv2.COLOR_BGR2GRAY)  # tramite l'utilizzo di cv2.COLOR_BGR2GRAY si ottiene un solo canale colore di output\n",
        "print(img.shape)\n",
        "plt.imshow(img, cmap='gray')\n",
        "plt.show()"
      ]
    },
    {
      "cell_type": "markdown",
      "metadata": {
        "id": "8G3zUObJJ-QX"
      },
      "source": [
        "## Analisi della distribuzione dei valori di intensità dei pixel"
      ]
    },
    {
      "cell_type": "code",
      "execution_count": null,
      "metadata": {
        "pycharm": {
          "name": "#%%\n"
        },
        "id": "dkxg7R53J-QX"
      },
      "outputs": [],
      "source": [
        "unique, counts = np.unique(img, return_counts=True)\n",
        "print(np.asarray((unique, counts)).T)\n",
        "\n",
        "# I valori dei pixel variano da 0 a 255 dove 0 rappresenta il nero assoluto e 255 il bianco assoluto."
      ]
    },
    {
      "cell_type": "markdown",
      "metadata": {
        "id": "I0kvXwkC021f"
      },
      "source": [
        "## Verifica class imbalance"
      ]
    },
    {
      "cell_type": "code",
      "execution_count": null,
      "metadata": {
        "id": "10qfpSeky_47"
      },
      "outputs": [],
      "source": [
        "bar_chart_dif_non_dif = {\"category\": [],\n",
        "                         \"values\": []}\n",
        "\n",
        "# Crezione di una lista category-value\n",
        "cat_value_list = []\n",
        "\n",
        "# Definizione della funzione count_images\n",
        "def count_images(input_folder, filename, filetype):\n",
        "    count_images = 0\n",
        "    for i, img in enumerate(glob.glob(input_folder + f\"/*.{filetype}\"), 1):\n",
        "        # Conteggio del numero di immagini contenute in ciascuna cartella\n",
        "        count_images += 1\n",
        "    cat_value_list.append([filename, count_images])\n",
        "    print(f\"NUMBER OF IMAGES IN FOLDER {filename}:\", count_images)\n",
        "    return cat_value_list\n",
        "\n",
        "count_images(DIR_ORGINAL_N0K_DATA,\n",
        "             \"NOK\",\n",
        "             \"bmp\")\n",
        "\n",
        "count_images(DIR_ORGINAL_0K_DATA,\n",
        "             \"OK\",\n",
        "             \"bmp\")\n",
        "\n",
        "for element in cat_value_list:\n",
        "    bar_chart_dif_non_dif[\"category\"].append(element[0])\n",
        "    bar_chart_dif_non_dif[\"values\"].append(element[1])\n",
        "\n",
        "# Conversione del dizionario in dataframe\n",
        "bar_chart_dif_non_dif = pd.DataFrame(bar_chart_dif_non_dif)\n",
        "\n",
        "# Riordinamento dei valori\n",
        "bar_chart_dif_non_dif.sort_values(by=['values'], \n",
        "                              ascending=False, \n",
        "                              inplace = True)\n",
        "\n",
        "# Visualizzazione dell'istogramma\n",
        "fig = px.bar(bar_chart_dif_non_dif, x= 'category', y = 'values')\n",
        "fig.show()\n",
        "\n",
        "# Come si può osservare il dataset risulta essere sbilanciato."
      ]
    },
    {
      "cell_type": "markdown",
      "metadata": {
        "id": "UbS1zb0d1QSx"
      },
      "source": [
        "# Processing delle immagini"
      ]
    },
    {
      "cell_type": "code",
      "execution_count": null,
      "metadata": {
        "id": "oJ5aAQ5gzAA_"
      },
      "outputs": [],
      "source": [
        "# Le operazioni eseguite sono quelle di:\n",
        "#       - conversione in bianco e nero\n",
        "#       - cropping dell'immagine\n",
        "#       - ridimensionamento dell'immagine\n",
        "\n",
        "for i in CATEGORIES:\n",
        "    print(f'CATEGORY: {i}')\n",
        "    path = os.path.join(DIR_ORGINAL_DATA,i)\n",
        "\n",
        "    for img in os.listdir(path):\n",
        "      print('sto processando una immagine...')\n",
        "      # Selezione immagine singola\n",
        "      img_raw = imread(os.path.join(path, img))\n",
        "      # Conversione in bianco e nero\n",
        "      img_gray = cv2.cvtColor(img_raw, cv2.COLOR_BGR2GRAY)\n",
        "      # Cropping\n",
        "      img_crop = img_gray[x:w, y:h]\n",
        "      # Ridimensionamento\n",
        "      width1 = int(img_crop.shape[1] * SCALE_PERCENT / 100)\n",
        "      height1 = int(img_crop.shape[0] * SCALE_PERCENT / 100)\n",
        "      dim1 = (width1, height1)\n",
        "      img_resized = cv2.resize(img_crop, dim1, interpolation = cv2.INTER_AREA)\n",
        "      # Visualizzazione\n",
        "      plt.imshow(img_resized)\n",
        "      # Salvataggio della singola immagine preprocessata nella cartella prepared\n",
        "      cv2.imwrite(os.path.join(DIR_PREPARED_DATA,i,img), img_resized)\n",
        "      print('ho salvato la nuova immagine')"
      ]
    },
    {
      "cell_type": "markdown",
      "metadata": {
        "id": "C_lDkceB-p56"
      },
      "source": [
        "# Split train test image form"
      ]
    },
    {
      "cell_type": "code",
      "execution_count": null,
      "metadata": {
        "id": "gG64vp6K6lYa"
      },
      "outputs": [],
      "source": [
        "splitfolders.ratio(DIR_PREPARED_DATA,\n",
        "                   output= DIR_TRAIN_TEST_DATA,\n",
        "                   seed = RANDOM_STATE,\n",
        "                   ratio = (.65, .35)) # training, testing"
      ]
    },
    {
      "cell_type": "markdown",
      "metadata": {
        "id": "LNO65vdb_c3e"
      },
      "source": [
        "# Data Augmentation"
      ]
    },
    {
      "cell_type": "code",
      "execution_count": null,
      "metadata": {
        "id": "H8EvsbJi6lQs"
      },
      "outputs": [],
      "source": [
        "# Creazione di un numero maggiore delle immagini di training tramite l'operazione di Data Augmentation.\n",
        "\n",
        "train_labels = os.listdir(DIR_TRAIN_DATA)\n",
        "print(train_labels)\n",
        "\n",
        "for training_name in train_labels:\n",
        "    if training_name == 'NOK':  # cartella contenente le immagini difettose\n",
        "      directory = os.path.join(DIR_TRAIN_DATA, training_name)\n",
        "      print(directory)\n",
        "      print(training_name)\n",
        "      for x in os.listdir(directory):\n",
        "          file = directory + \"/\" + str(x)\n",
        "          image = cv2.imread(file)\n",
        "          image = cv2.cvtColor(image, cv2.COLOR_BGR2GRAY)\n",
        "          print(str(x), image.shape)\n",
        "\n",
        "          # data augmentation\n",
        "          image_h_flip = utils.horizontal_flip(image, True)\n",
        "          image_v_flip = utils.vertical_flip(image, True)\n",
        "\n",
        "          for i in range(30, 38):\n",
        "              image_rotation_i = utils.rotation(image, i)\n",
        "              # Salvataggio delle immagini\n",
        "              cv2.imwrite(f\"{str(DIR_TRAIN_DATA)}/{str(training_name)}/{str(x)}_rotation_{i}.bmp\", image_rotation_i)\n",
        "\n",
        "          # Salvataggio delle immagini\n",
        "          cv2.imwrite(f\"{str(DIR_TRAIN_DATA)}/{str(training_name)}/{str(x)}_h_flip.bmp\", image_h_flip)\n",
        "          cv2.imwrite(f\"{str(DIR_TRAIN_DATA)}/{str(training_name)}/{str(x)}_v_flip.bmp\", image_v_flip)\n",
        "    else: # cartella contenente le immagini non difettose\n",
        "        directory = os.path.join(DIR_TRAIN_DATA, training_name)\n",
        "        for x in os.listdir(directory):\n",
        "          file = directory + \"/\" + str(x)\n",
        "          image = cv2.imread(file)\n",
        "          image = cv2.cvtColor(image, cv2.COLOR_BGR2GRAY)\n",
        "          print(str(x), image.shape)\n",
        "\n",
        "          for i in range(30, 31):\n",
        "              image_rotation_i = utils.rotation(image, i)\n",
        "              cv2.imwrite(f\"{str(DIR_TRAIN_DATA)}/{str(training_name)}/{str(x)}_rotation_{i}.bmp\", image_rotation_i)"
      ]
    },
    {
      "cell_type": "code",
      "execution_count": null,
      "metadata": {
        "pycharm": {
          "name": "#%%\n"
        },
        "id": "9HZ8jDo8J-QZ"
      },
      "outputs": [],
      "source": [
        "# Controllo del numero di nuovi elementi creati per cartella\n",
        "\n",
        "for training_name in train_labels:\n",
        "    count_element = 0\n",
        "    directory = os.path.join(DIR_TRAIN_DATA, training_name)\n",
        "    for x in os.listdir(directory):\n",
        "        count_element += 1\n",
        "    print(f\"Count of element for the directory {training_name}:\", count_element)"
      ]
    },
    {
      "cell_type": "markdown",
      "metadata": {
        "id": "jVLXmghcG36b"
      },
      "source": [
        "# Conversione in forma vettoriale"
      ]
    },
    {
      "cell_type": "markdown",
      "metadata": {
        "id": "nlnWFX7HkdwX"
      },
      "source": [
        "## Train"
      ]
    },
    {
      "cell_type": "code",
      "execution_count": null,
      "metadata": {
        "id": "VyQFr3I26lGf"
      },
      "outputs": [],
      "source": [
        "target_TRAIN = []\n",
        "flat_data_TRAIN = []\n",
        "images_TRAIN = []\n",
        "\n",
        "# TRAINING\n",
        "\n",
        "for i in CATEGORIES:\n",
        "    print(\"Category is:\",i,\"\\tLabel encoded as:\",CATEGORIES.index(i))\n",
        "    target_class = CATEGORIES.index(i)\n",
        "    path = os.path.join(DIR_TRAIN_DATA,i)\n",
        "\n",
        "    for img in os.listdir(path):\n",
        "        img_array = imread(os.path.join(path,img))\n",
        "        print(img_array.shape)\n",
        "        flat_data_TRAIN.append(img_array.flatten())\n",
        "        target_TRAIN.append(target_class)\n",
        "\n",
        "# Conversione della lista in un numpy array\n",
        "flat_data_TRAIN = np.array(flat_data_TRAIN)\n",
        "target_TRAIN = np.array(target_TRAIN)\n",
        "\n",
        "# Creazione del dataframe\n",
        "df_train= pd.DataFrame(flat_data_TRAIN)\n",
        "df_train = pd.DataFrame(\n",
        "    scaler.fit_transform(df_train),\n",
        "    index=df_train.index\n",
        ")\n",
        "\n",
        "df_train['Target'] = target_TRAIN\n",
        "X_train = df_train.iloc[:,:-1] # input data\n",
        "y_train = df_train.iloc[:,-1] # output data"
      ]
    },
    {
      "cell_type": "code",
      "execution_count": null,
      "metadata": {
        "pycharm": {
          "name": "#%%\n"
        },
        "id": "dCZ1ePluJ-Qa"
      },
      "outputs": [],
      "source": [
        "X_train\n",
        "\n",
        "# Ci sono 150 righe che corrispondono alle 150 immagini.\n",
        "# Le colonne sono invece tutti i pixel flatten."
      ]
    },
    {
      "cell_type": "code",
      "execution_count": null,
      "metadata": {
        "pycharm": {
          "name": "#%%\n"
        },
        "id": "_bMo7XowJ-Qb"
      },
      "outputs": [],
      "source": [
        "y_train  # E' l'etichetta che mostra se l'immagine è difettosa o meno."
      ]
    },
    {
      "cell_type": "markdown",
      "metadata": {
        "id": "a-4Z_CcVhdht"
      },
      "source": [
        "## Test"
      ]
    },
    {
      "cell_type": "code",
      "execution_count": null,
      "metadata": {
        "id": "duRx55cE6k_T"
      },
      "outputs": [],
      "source": [
        "target_TEST = []\n",
        "flat_data_TEST = []\n",
        "images_TEST = []\n",
        "\n",
        "for i in CATEGORIES:\n",
        "    print(\"Category is:\",i,\"\\tLabel encoded as:\",CATEGORIES.index(i))\n",
        "    target_class = CATEGORIES.index(i)\n",
        "    path = os.path.join(DIR_TEST_DATA,i)\n",
        "\n",
        "    for img in os.listdir(path):\n",
        "        img_array = imread(os.path.join(path,img))\n",
        "        flat_data_TEST.append(img_array.flatten())\n",
        "        target_TEST.append(target_class)\n",
        "\n",
        "# Conversione della lista in un numpy array\n",
        "flat_data_TEST = np.array(flat_data_TEST)\n",
        "target_TEST = np.array(target_TEST)\n",
        "\n",
        "# Creazione del dataframe\n",
        "df_test = pd.DataFrame(flat_data_TEST)\n",
        "df_test = pd.DataFrame(\n",
        "    scaler.transform(df_test),\n",
        "    index=df_test.index\n",
        ")\n",
        "\n",
        "df_test['Target'] = target_TEST\n",
        "X_test = df_test.iloc[:,:-1] # input data\n",
        "y_test = df_test.iloc[:,-1] # output data"
      ]
    },
    {
      "cell_type": "code",
      "execution_count": null,
      "metadata": {
        "pycharm": {
          "name": "#%%\n"
        },
        "id": "Yqd9-JjLJ-Qc"
      },
      "outputs": [],
      "source": [
        "# Verifica delle dimensioni dei dataframe\n",
        "\n",
        "print(\"Dimensions of input training data   (X_train):\",  X_train.shape)\n",
        "print(\"Dimensions of output training data: (y_train)\",   y_train.shape)\n",
        "\n",
        "print(\"Dimensions of input testing data:   (X_test)\",    X_test.shape)\n",
        "print(\"Dimensions of output testing data:  (y_test)\",    y_test.shape)"
      ]
    },
    {
      "cell_type": "markdown",
      "metadata": {
        "id": "WVxRQptzG8oC"
      },
      "source": [
        "# Data persistence"
      ]
    },
    {
      "cell_type": "code",
      "execution_count": null,
      "metadata": {
        "pycharm": {
          "name": "#%%\n"
        },
        "id": "1tX27N29J-Qc"
      },
      "outputs": [],
      "source": [
        "# Salvataggio dello scaler\n",
        "\n",
        "with open('../Models/minMax_scaler.pkl', 'wb') as file:\n",
        "    pickle.dump(scaler, file)"
      ]
    },
    {
      "cell_type": "code",
      "execution_count": null,
      "metadata": {
        "id": "FJunSzDL6k81",
        "pycharm": {
          "name": "#%%\n"
        }
      },
      "outputs": [],
      "source": [
        "# Salvataggio di train e test set.\n",
        "\n",
        "df_train.to_pickle('../Data/Prepared/train_prep.pkl.zip', compression='zip')\n",
        "df_test.to_pickle('../Data/Prepared/test_prep.pkl.zip', compression='zip')"
      ]
    }
  ],
  "metadata": {
    "colab": {
      "collapsed_sections": [
        "qfbtgnL70Pjo",
        "69GNDNij0ULQ",
        "kE7kbvTo0w6n",
        "I0kvXwkC021f",
        "NNCIpRfR08y0",
        "VJ4kocMF-287"
      ],
      "provenance": [],
      "toc_visible": true
    },
    "kernelspec": {
      "display_name": "Python 3 (ipykernel)",
      "language": "python",
      "name": "python3"
    },
    "language_info": {
      "codemirror_mode": {
        "name": "ipython",
        "version": 3
      },
      "file_extension": ".py",
      "mimetype": "text/x-python",
      "name": "python",
      "nbconvert_exporter": "python",
      "pygments_lexer": "ipython3",
      "version": "3.8.12"
    }
  },
  "nbformat": 4,
  "nbformat_minor": 0
}