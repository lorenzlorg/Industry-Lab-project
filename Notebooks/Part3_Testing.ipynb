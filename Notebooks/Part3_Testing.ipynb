{
  "cells": [
    {
      "cell_type": "markdown",
      "metadata": {
        "pycharm": {
          "name": "#%% md\n"
        },
        "id": "CC0Xwa5sLvR4"
      },
      "source": [
        "# Scopo del notebook di Testing"
      ]
    },
    {
      "cell_type": "markdown",
      "metadata": {
        "id": "LwV9qtdSLvR9"
      },
      "source": [
        "Lo scopo di questa parte è misurare le performance del modello supervisionato su dati di test non utilizzati durante il suo addestramento, oppure esplorare come il modello non supervisionato si comporta sul dataset di training."
      ]
    },
    {
      "cell_type": "markdown",
      "metadata": {
        "id": "7rFffOevLvR_"
      },
      "source": [
        "# Settings"
      ]
    },
    {
      "cell_type": "code",
      "execution_count": null,
      "metadata": {
        "pycharm": {
          "name": "#%%\n"
        },
        "id": "kw1pcJjPLvSB"
      },
      "outputs": [],
      "source": [
        "# IMPORTAZIONE LIBRERIE\n",
        "import pandas as pd\n",
        "import pickle\n",
        "import utils"
      ]
    },
    {
      "cell_type": "markdown",
      "metadata": {
        "id": "osK97JWlLvSD"
      },
      "source": [
        "# Dataset Loading"
      ]
    },
    {
      "cell_type": "code",
      "execution_count": null,
      "metadata": {
        "pycharm": {
          "name": "#%%\n"
        },
        "id": "-wp-hlmjLvSD"
      },
      "outputs": [],
      "source": [
        "X = pd.read_pickle('../Data/Prepared/test_prep.pkl.zip', compression='zip')\n",
        "X.head()"
      ]
    },
    {
      "cell_type": "code",
      "execution_count": null,
      "metadata": {
        "pycharm": {
          "name": "#%%\n"
        },
        "id": "N8YEnI31LvSE"
      },
      "outputs": [],
      "source": [
        "Y = X.pop('Target')\n",
        "Y.head()"
      ]
    },
    {
      "cell_type": "markdown",
      "metadata": {
        "id": "wUxq9dGQLvSF"
      },
      "source": [
        "# Dummy Classifier"
      ]
    },
    {
      "cell_type": "markdown",
      "metadata": {
        "pycharm": {
          "name": "#%% md\n"
        },
        "id": "idgkiJS9LvSF"
      },
      "source": [
        "## Model loading"
      ]
    },
    {
      "cell_type": "code",
      "execution_count": null,
      "metadata": {
        "pycharm": {
          "name": "#%%\n"
        },
        "id": "Db3dUFNILvSG"
      },
      "outputs": [],
      "source": [
        "with open('../Models/dummy.pkl', 'rb') as file:\n",
        "    model_dummy = pickle.load(file)\n",
        "model_dummy\n",
        "\n",
        "# Predizione sui valori di test\n",
        "y_pred_DUMMY = model_dummy.predict(X)"
      ]
    },
    {
      "cell_type": "markdown",
      "metadata": {
        "id": "CsBUuNbALvSH"
      },
      "source": [
        "## Model Performances on Test set"
      ]
    },
    {
      "cell_type": "code",
      "execution_count": null,
      "metadata": {
        "pycharm": {
          "name": "#%%\n"
        },
        "id": "jr4QQbWxLvSH"
      },
      "outputs": [],
      "source": [
        "# Performances\n",
        "acc_DUMMY, prec_DUMMY, rec_DUMMY, f1_DUMMY, best_est_DUMMY, best_score_DUMMY, best_para_DUMMY, roc_DUMMY, cm_DUMMY  = utils.performance(Y, y_pred_DUMMY, model_dummy, True)"
      ]
    },
    {
      "cell_type": "markdown",
      "metadata": {
        "pycharm": {
          "name": "#%% md\n"
        },
        "id": "CFGRhllELvSH"
      },
      "source": [
        "# Logistic regression"
      ]
    },
    {
      "cell_type": "markdown",
      "metadata": {
        "pycharm": {
          "name": "#%% md\n"
        },
        "id": "UbMT_nyqLvSI"
      },
      "source": [
        "## Model loading"
      ]
    },
    {
      "cell_type": "code",
      "execution_count": null,
      "metadata": {
        "pycharm": {
          "name": "#%%\n"
        },
        "id": "e1UEab-9LvSI"
      },
      "outputs": [],
      "source": [
        "with open('../Models/log_reg.pkl', 'rb') as file:\n",
        "    model_log_reg = pickle.load(file)\n",
        "model_log_reg\n",
        "\n",
        "# Predizione sui valori di test\n",
        "y_pred_LOG_REG = model_log_reg.predict(X)"
      ]
    },
    {
      "cell_type": "markdown",
      "metadata": {
        "id": "N4EBZ7h4LvSI"
      },
      "source": [
        "## Model Performances on Test set"
      ]
    },
    {
      "cell_type": "code",
      "execution_count": null,
      "metadata": {
        "pycharm": {
          "name": "#%%\n"
        },
        "id": "yyxDiAzsLvSI"
      },
      "outputs": [],
      "source": [
        "acc_LOG_REG, prec_LOG_REG, rec_LOG_REG, f1_LOG_REG, best_est_LOG_REG, best_score_LOG_REG, best_para_LOG_REG, roc_LOG_REG, cm_LOG_REG  = utils.performance(Y, y_pred_LOG_REG, model_log_reg, False)"
      ]
    },
    {
      "cell_type": "markdown",
      "metadata": {
        "pycharm": {
          "name": "#%% md\n"
        },
        "id": "26WhmV3sLvSJ"
      },
      "source": [
        "# Linear Discriminant Analysis"
      ]
    },
    {
      "cell_type": "markdown",
      "metadata": {
        "id": "tcDzYeQtLvSJ"
      },
      "source": [
        "## Model loading"
      ]
    },
    {
      "cell_type": "code",
      "execution_count": null,
      "metadata": {
        "pycharm": {
          "name": "#%%\n"
        },
        "id": "fS6zkDXpLvSJ"
      },
      "outputs": [],
      "source": [
        "with open('../Models/linear_discriminant_analysis.pkl', 'rb') as file:\n",
        "    model_linear_discriminant_analysis = pickle.load(file)\n",
        "model_linear_discriminant_analysis\n",
        "\n",
        "# Predizione sui valori di test\n",
        "y_pred_LIN_DISC = model_linear_discriminant_analysis.predict(X)"
      ]
    },
    {
      "cell_type": "markdown",
      "metadata": {
        "id": "_8-Lp_HNLvSJ"
      },
      "source": [
        "## Model Performances on Test set"
      ]
    },
    {
      "cell_type": "code",
      "execution_count": null,
      "metadata": {
        "pycharm": {
          "name": "#%%\n"
        },
        "id": "Jd_QZs7uLvSK"
      },
      "outputs": [],
      "source": [
        "acc_LIN_DISC, prec_LIN_DISC, rec_LIN_DISC, f1_LIN_DISC, best_est_LIN_DISC, best_score_LIN_DISC, best_para_LIN_DISC, roc_LIN_DISC, cm_LIN_DISC  = utils.performance(Y, y_pred_LIN_DISC, model_linear_discriminant_analysis, False)"
      ]
    },
    {
      "cell_type": "markdown",
      "metadata": {
        "pycharm": {
          "name": "#%% md\n"
        },
        "id": "b3qvb0XNLvSK"
      },
      "source": [
        "# K-Nearest Neighbors"
      ]
    },
    {
      "cell_type": "markdown",
      "metadata": {
        "id": "0sjF7eX8LvSK"
      },
      "source": [
        "## Model loading"
      ]
    },
    {
      "cell_type": "code",
      "execution_count": null,
      "metadata": {
        "pycharm": {
          "name": "#%%\n"
        },
        "id": "wcIdQovvLvSK"
      },
      "outputs": [],
      "source": [
        "with open('../Models/knn.pkl', 'rb') as file:\n",
        "    model_knn = pickle.load(file)\n",
        "model_knn\n",
        "\n",
        "# Predizione sui valori di test\n",
        "y_pred_KNN = model_knn.predict(X)"
      ]
    },
    {
      "cell_type": "markdown",
      "metadata": {
        "id": "QIaSFOTTLvSK"
      },
      "source": [
        "## Model Performances on Test set"
      ]
    },
    {
      "cell_type": "code",
      "execution_count": null,
      "metadata": {
        "pycharm": {
          "name": "#%%\n"
        },
        "id": "2oo_FjKSLvSL"
      },
      "outputs": [],
      "source": [
        "acc_KNN, prec_KNN, rec_KNN, f1_KNN, best_est_KNN, best_score_KNN, best_para_KNN, roc_KNN, cm_KNN  = utils.performance(Y, y_pred_KNN, model_knn, False)"
      ]
    },
    {
      "cell_type": "markdown",
      "metadata": {
        "pycharm": {
          "name": "#%% md\n"
        },
        "id": "hxQFTzwmLvSL"
      },
      "source": [
        "# Decision Tree"
      ]
    },
    {
      "cell_type": "markdown",
      "metadata": {
        "id": "pn5eU8H1LvSL"
      },
      "source": [
        "## Model loading"
      ]
    },
    {
      "cell_type": "code",
      "execution_count": null,
      "metadata": {
        "pycharm": {
          "name": "#%%\n"
        },
        "id": "hGkidmYELvSL"
      },
      "outputs": [],
      "source": [
        "with open('../Models/decision_tree.pkl', 'rb') as file:\n",
        "    model_decision_tree = pickle.load(file)\n",
        "model_decision_tree\n",
        "\n",
        "# Predizione sui valori di test\n",
        "y_pred_DEC_TREE = model_decision_tree.predict(X)"
      ]
    },
    {
      "cell_type": "markdown",
      "metadata": {
        "id": "WoNGlNQ8LvSL"
      },
      "source": [
        "## Model Performances on Test set"
      ]
    },
    {
      "cell_type": "code",
      "execution_count": null,
      "metadata": {
        "pycharm": {
          "name": "#%%\n"
        },
        "id": "FHvuHSf9LvSL"
      },
      "outputs": [],
      "source": [
        "acc_DEC_TREE, prec_DEC_TREE, rec_DEC_TREE, f1_DEC_TREE, best_est_DEC_TREE, best_score_DEC_TREE, best_para_DEC_TREE, roc_DEC_TREE, cm_DEC_TREE  = utils.performance(Y, y_pred_DEC_TREE, model_decision_tree, False)"
      ]
    },
    {
      "cell_type": "markdown",
      "metadata": {
        "pycharm": {
          "name": "#%% md\n"
        },
        "id": "KCCOPxghLvSM"
      },
      "source": [
        "# Random Forest"
      ]
    },
    {
      "cell_type": "markdown",
      "metadata": {
        "id": "C8atdl5TLvSM"
      },
      "source": [
        "## Model loading"
      ]
    },
    {
      "cell_type": "code",
      "execution_count": null,
      "metadata": {
        "pycharm": {
          "name": "#%%\n"
        },
        "id": "bK0ryYsDLvSM"
      },
      "outputs": [],
      "source": [
        "with open('../Models/random_forest.pkl', 'rb') as file:\n",
        "    model_random_forest = pickle.load(file)\n",
        "model_random_forest\n",
        "\n",
        "# Predizione sui valori di test\n",
        "y_pred_RAND_FOR = model_random_forest.predict(X)"
      ]
    },
    {
      "cell_type": "markdown",
      "metadata": {
        "id": "ANpNI_XsLvSM"
      },
      "source": [
        "## Model Performances on Test set"
      ]
    },
    {
      "cell_type": "code",
      "execution_count": null,
      "metadata": {
        "pycharm": {
          "name": "#%%\n"
        },
        "id": "ppAFtGsoLvSM"
      },
      "outputs": [],
      "source": [
        "acc_RAND_FOR, prec_RAND_FOR, rec_RAND_FOR, f1_RAND_FOR, best_est_RAND_FOR, best_score_RAND_FOR, best_para_RAND_FOR, roc_RAND_FOR, cm_RAND_FOR  = utils.performance(Y, y_pred_RAND_FOR, model_random_forest, False)"
      ]
    },
    {
      "cell_type": "markdown",
      "metadata": {
        "pycharm": {
          "name": "#%% md\n"
        },
        "id": "7JvQw2gqLvSN"
      },
      "source": [
        "# Naive Bayes"
      ]
    },
    {
      "cell_type": "markdown",
      "metadata": {
        "id": "sfQzkr4tLvSN"
      },
      "source": [
        "## Model loading"
      ]
    },
    {
      "cell_type": "code",
      "execution_count": null,
      "metadata": {
        "pycharm": {
          "name": "#%%\n"
        },
        "id": "nhu1sdR0LvSN"
      },
      "outputs": [],
      "source": [
        "with open('../Models/naive_bayes.pkl', 'rb') as file:\n",
        "    model_naive_bayes = pickle.load(file)\n",
        "model_naive_bayes\n",
        "\n",
        "# Predizione sui valori di test\n",
        "y_pred_NB = model_naive_bayes.predict(X)"
      ]
    },
    {
      "cell_type": "markdown",
      "metadata": {
        "id": "WFLoQ6nALvSN"
      },
      "source": [
        "## Model Performances on Test set"
      ]
    },
    {
      "cell_type": "code",
      "execution_count": null,
      "metadata": {
        "pycharm": {
          "name": "#%%\n"
        },
        "id": "NrfAPQWBLvSN"
      },
      "outputs": [],
      "source": [
        "acc_NB, prec_NB, rec_NB, f1_NB, best_est_NB, best_score_NB, best_para_NB, roc_NB, cm_NB  = utils.performance(Y, y_pred_NB, model_naive_bayes, False)"
      ]
    },
    {
      "cell_type": "markdown",
      "metadata": {
        "pycharm": {
          "name": "#%% md\n"
        },
        "id": "hSeckfZlLvSO"
      },
      "source": [
        "# Support Vector Machine"
      ]
    },
    {
      "cell_type": "markdown",
      "metadata": {
        "id": "pjGNU4AkLvSO"
      },
      "source": [
        "## Model loading"
      ]
    },
    {
      "cell_type": "code",
      "execution_count": null,
      "metadata": {
        "pycharm": {
          "name": "#%%\n"
        },
        "id": "esuBGYG3LvSO"
      },
      "outputs": [],
      "source": [
        "with open('../Models/support_vector_machine.pkl', 'rb') as file:\n",
        "    model_support_vector_machine = pickle.load(file)\n",
        "model_support_vector_machine\n",
        "\n",
        "# Predizione sui valori di test\n",
        "y_pred_SVM = model_support_vector_machine.predict(X)"
      ]
    },
    {
      "cell_type": "markdown",
      "metadata": {
        "id": "u9YePVlMLvSO"
      },
      "source": [
        "## Model Performances on Test set"
      ]
    },
    {
      "cell_type": "code",
      "execution_count": null,
      "metadata": {
        "pycharm": {
          "name": "#%%\n"
        },
        "id": "jApuXwGzLvSO"
      },
      "outputs": [],
      "source": [
        "acc_SVM, prec_SVM, rec_SVM, f1_SVM, best_est_SVM, best_score_SVM, best_para_SVM, roc_SVM, cm_SVM  = utils.performance(Y, y_pred_SVM, model_support_vector_machine, False)"
      ]
    },
    {
      "cell_type": "markdown",
      "source": [
        "# Summary delle Confusion matrix"
      ],
      "metadata": {
        "collapsed": false,
        "id": "mTvyWsgJLvSO"
      }
    },
    {
      "cell_type": "code",
      "execution_count": null,
      "outputs": [],
      "source": [
        "models_name = ['Dummy Classifier',\n",
        "               'Logistic Regression',\n",
        "               'Linear Discriminant Analysis',\n",
        "               'KNN',\n",
        "               'Decision Tree',\n",
        "               'Random Forest',\n",
        "               'Naive Bayes',\n",
        "               'Support Vector Machine']\n",
        "\n",
        "pred_list = [y_pred_DUMMY,\n",
        "             y_pred_LOG_REG,\n",
        "             y_pred_LIN_DISC,\n",
        "             y_pred_KNN,\n",
        "             y_pred_DEC_TREE,\n",
        "             y_pred_RAND_FOR,\n",
        "             y_pred_NB,\n",
        "             y_pred_SVM]\n",
        "\n",
        "# Confusion Matrix per tutti i modelli\n",
        "\n",
        "cm_list = [cm_DUMMY, cm_LOG_REG, cm_LIN_DISC, cm_KNN, cm_DEC_TREE, cm_RAND_FOR, cm_NB, cm_SVM]\n",
        "utils.plot_conf_matrix(models_name, cm_list, nrows=2, ncols=4, fig_a=10, fig_b=8)"
      ],
      "metadata": {
        "pycharm": {
          "name": "#%%\n"
        },
        "id": "zFULdMSwLvSP"
      }
    },
    {
      "cell_type": "markdown",
      "source": [
        "# Summary delle ROC curves"
      ],
      "metadata": {
        "collapsed": false,
        "id": "aEji1EjMLvSP"
      }
    },
    {
      "cell_type": "code",
      "execution_count": null,
      "outputs": [],
      "source": [
        "# ROC curves per tutti i modelli\n",
        "\n",
        "utils.roc_auc_curve(models_name, pred_list, Y)"
      ],
      "metadata": {
        "pycharm": {
          "name": "#%%\n"
        },
        "id": "re00vFgMLvSP"
      }
    }
  ],
  "metadata": {
    "kernelspec": {
      "display_name": "Python 3 (ipykernel)",
      "language": "python",
      "name": "python3"
    },
    "language_info": {
      "codemirror_mode": {
        "name": "ipython",
        "version": 3
      },
      "file_extension": ".py",
      "mimetype": "text/x-python",
      "name": "python",
      "nbconvert_exporter": "python",
      "pygments_lexer": "ipython3",
      "version": "3.8.12"
    },
    "colab": {
      "provenance": []
    }
  },
  "nbformat": 4,
  "nbformat_minor": 0
}